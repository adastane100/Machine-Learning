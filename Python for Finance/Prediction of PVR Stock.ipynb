{
 "cells": [
  {
   "cell_type": "code",
   "execution_count": 821,
   "metadata": {},
   "outputs": [],
   "source": [
    "import numpy as np\n",
    "import pandas as pd\n",
    "import matplotlib.pyplot as plt\n",
    "import quandl\n",
    "import seaborn as sns"
   ]
  },
  {
   "cell_type": "code",
   "execution_count": 822,
   "metadata": {},
   "outputs": [],
   "source": [
    "df_pvr = quandl.get('NSE/PVR')\n",
    "df = pd.DataFrame(df_pvr)"
   ]
  },
  {
   "cell_type": "code",
   "execution_count": 823,
   "metadata": {},
   "outputs": [
    {
     "data": {
      "text/html": [
       "<div>\n",
       "<style scoped>\n",
       "    .dataframe tbody tr th:only-of-type {\n",
       "        vertical-align: middle;\n",
       "    }\n",
       "\n",
       "    .dataframe tbody tr th {\n",
       "        vertical-align: top;\n",
       "    }\n",
       "\n",
       "    .dataframe thead th {\n",
       "        text-align: right;\n",
       "    }\n",
       "</style>\n",
       "<table border=\"1\" class=\"dataframe\">\n",
       "  <thead>\n",
       "    <tr style=\"text-align: right;\">\n",
       "      <th></th>\n",
       "      <th>Open</th>\n",
       "      <th>High</th>\n",
       "      <th>Low</th>\n",
       "      <th>Last</th>\n",
       "      <th>Close</th>\n",
       "      <th>Total Trade Quantity</th>\n",
       "      <th>Turnover (Lacs)</th>\n",
       "    </tr>\n",
       "    <tr>\n",
       "      <th>Date</th>\n",
       "      <th></th>\n",
       "      <th></th>\n",
       "      <th></th>\n",
       "      <th></th>\n",
       "      <th></th>\n",
       "      <th></th>\n",
       "      <th></th>\n",
       "    </tr>\n",
       "  </thead>\n",
       "  <tbody>\n",
       "    <tr>\n",
       "      <th>2006-01-04</th>\n",
       "      <td>270.0</td>\n",
       "      <td>309.40</td>\n",
       "      <td>270.00</td>\n",
       "      <td>292.25</td>\n",
       "      <td>294.95</td>\n",
       "      <td>13493309.0</td>\n",
       "      <td>40264.55</td>\n",
       "    </tr>\n",
       "    <tr>\n",
       "      <th>2006-01-05</th>\n",
       "      <td>297.0</td>\n",
       "      <td>299.50</td>\n",
       "      <td>280.25</td>\n",
       "      <td>281.95</td>\n",
       "      <td>282.60</td>\n",
       "      <td>2561756.0</td>\n",
       "      <td>7432.69</td>\n",
       "    </tr>\n",
       "    <tr>\n",
       "      <th>2006-01-06</th>\n",
       "      <td>282.9</td>\n",
       "      <td>283.85</td>\n",
       "      <td>271.05</td>\n",
       "      <td>273.00</td>\n",
       "      <td>275.45</td>\n",
       "      <td>1458627.0</td>\n",
       "      <td>4039.18</td>\n",
       "    </tr>\n",
       "    <tr>\n",
       "      <th>2006-01-09</th>\n",
       "      <td>275.2</td>\n",
       "      <td>282.40</td>\n",
       "      <td>272.55</td>\n",
       "      <td>280.35</td>\n",
       "      <td>280.00</td>\n",
       "      <td>768134.0</td>\n",
       "      <td>2135.75</td>\n",
       "    </tr>\n",
       "    <tr>\n",
       "      <th>2006-01-10</th>\n",
       "      <td>281.1</td>\n",
       "      <td>290.00</td>\n",
       "      <td>278.25</td>\n",
       "      <td>280.00</td>\n",
       "      <td>280.10</td>\n",
       "      <td>703707.0</td>\n",
       "      <td>1995.83</td>\n",
       "    </tr>\n",
       "  </tbody>\n",
       "</table>\n",
       "</div>"
      ],
      "text/plain": [
       "             Open    High     Low    Last   Close  Total Trade Quantity  \\\n",
       "Date                                                                      \n",
       "2006-01-04  270.0  309.40  270.00  292.25  294.95            13493309.0   \n",
       "2006-01-05  297.0  299.50  280.25  281.95  282.60             2561756.0   \n",
       "2006-01-06  282.9  283.85  271.05  273.00  275.45             1458627.0   \n",
       "2006-01-09  275.2  282.40  272.55  280.35  280.00              768134.0   \n",
       "2006-01-10  281.1  290.00  278.25  280.00  280.10              703707.0   \n",
       "\n",
       "            Turnover (Lacs)  \n",
       "Date                         \n",
       "2006-01-04         40264.55  \n",
       "2006-01-05          7432.69  \n",
       "2006-01-06          4039.18  \n",
       "2006-01-09          2135.75  \n",
       "2006-01-10          1995.83  "
      ]
     },
     "execution_count": 823,
     "metadata": {},
     "output_type": "execute_result"
    }
   ],
   "source": [
    "df.head()"
   ]
  },
  {
   "cell_type": "code",
   "execution_count": 824,
   "metadata": {},
   "outputs": [
    {
     "data": {
      "text/html": [
       "<div>\n",
       "<style scoped>\n",
       "    .dataframe tbody tr th:only-of-type {\n",
       "        vertical-align: middle;\n",
       "    }\n",
       "\n",
       "    .dataframe tbody tr th {\n",
       "        vertical-align: top;\n",
       "    }\n",
       "\n",
       "    .dataframe thead th {\n",
       "        text-align: right;\n",
       "    }\n",
       "</style>\n",
       "<table border=\"1\" class=\"dataframe\">\n",
       "  <thead>\n",
       "    <tr style=\"text-align: right;\">\n",
       "      <th></th>\n",
       "      <th>Open</th>\n",
       "      <th>High</th>\n",
       "      <th>Low</th>\n",
       "      <th>Last</th>\n",
       "      <th>Close</th>\n",
       "      <th>Total Trade Quantity</th>\n",
       "      <th>Turnover (Lacs)</th>\n",
       "    </tr>\n",
       "    <tr>\n",
       "      <th>Date</th>\n",
       "      <th></th>\n",
       "      <th></th>\n",
       "      <th></th>\n",
       "      <th></th>\n",
       "      <th></th>\n",
       "      <th></th>\n",
       "      <th></th>\n",
       "    </tr>\n",
       "  </thead>\n",
       "  <tbody>\n",
       "    <tr>\n",
       "      <th>2018-12-31</th>\n",
       "      <td>1590.00</td>\n",
       "      <td>1611.70</td>\n",
       "      <td>1586.65</td>\n",
       "      <td>1599.00</td>\n",
       "      <td>1604.55</td>\n",
       "      <td>485188.0</td>\n",
       "      <td>7778.87</td>\n",
       "    </tr>\n",
       "    <tr>\n",
       "      <th>2019-01-01</th>\n",
       "      <td>1600.10</td>\n",
       "      <td>1604.55</td>\n",
       "      <td>1579.15</td>\n",
       "      <td>1599.00</td>\n",
       "      <td>1594.60</td>\n",
       "      <td>154865.0</td>\n",
       "      <td>2463.18</td>\n",
       "    </tr>\n",
       "    <tr>\n",
       "      <th>2019-01-02</th>\n",
       "      <td>1585.35</td>\n",
       "      <td>1604.90</td>\n",
       "      <td>1577.05</td>\n",
       "      <td>1586.00</td>\n",
       "      <td>1587.55</td>\n",
       "      <td>237215.0</td>\n",
       "      <td>3774.06</td>\n",
       "    </tr>\n",
       "    <tr>\n",
       "      <th>2019-01-03</th>\n",
       "      <td>1590.00</td>\n",
       "      <td>1611.50</td>\n",
       "      <td>1518.00</td>\n",
       "      <td>1531.05</td>\n",
       "      <td>1530.70</td>\n",
       "      <td>613132.0</td>\n",
       "      <td>9561.72</td>\n",
       "    </tr>\n",
       "    <tr>\n",
       "      <th>2019-01-04</th>\n",
       "      <td>1535.50</td>\n",
       "      <td>1576.95</td>\n",
       "      <td>1501.10</td>\n",
       "      <td>1573.00</td>\n",
       "      <td>1573.20</td>\n",
       "      <td>764568.0</td>\n",
       "      <td>11764.33</td>\n",
       "    </tr>\n",
       "  </tbody>\n",
       "</table>\n",
       "</div>"
      ],
      "text/plain": [
       "               Open     High      Low     Last    Close  Total Trade Quantity  \\\n",
       "Date                                                                            \n",
       "2018-12-31  1590.00  1611.70  1586.65  1599.00  1604.55              485188.0   \n",
       "2019-01-01  1600.10  1604.55  1579.15  1599.00  1594.60              154865.0   \n",
       "2019-01-02  1585.35  1604.90  1577.05  1586.00  1587.55              237215.0   \n",
       "2019-01-03  1590.00  1611.50  1518.00  1531.05  1530.70              613132.0   \n",
       "2019-01-04  1535.50  1576.95  1501.10  1573.00  1573.20              764568.0   \n",
       "\n",
       "            Turnover (Lacs)  \n",
       "Date                         \n",
       "2018-12-31          7778.87  \n",
       "2019-01-01          2463.18  \n",
       "2019-01-02          3774.06  \n",
       "2019-01-03          9561.72  \n",
       "2019-01-04         11764.33  "
      ]
     },
     "execution_count": 824,
     "metadata": {},
     "output_type": "execute_result"
    }
   ],
   "source": [
    "df.tail()"
   ]
  },
  {
   "cell_type": "code",
   "execution_count": 825,
   "metadata": {},
   "outputs": [
    {
     "data": {
      "text/html": [
       "<div>\n",
       "<style scoped>\n",
       "    .dataframe tbody tr th:only-of-type {\n",
       "        vertical-align: middle;\n",
       "    }\n",
       "\n",
       "    .dataframe tbody tr th {\n",
       "        vertical-align: top;\n",
       "    }\n",
       "\n",
       "    .dataframe thead th {\n",
       "        text-align: right;\n",
       "    }\n",
       "</style>\n",
       "<table border=\"1\" class=\"dataframe\">\n",
       "  <thead>\n",
       "    <tr style=\"text-align: right;\">\n",
       "      <th></th>\n",
       "      <th>Open</th>\n",
       "      <th>High</th>\n",
       "      <th>Low</th>\n",
       "      <th>Last</th>\n",
       "      <th>Close</th>\n",
       "      <th>Total Trade Quantity</th>\n",
       "      <th>Turnover (Lacs)</th>\n",
       "    </tr>\n",
       "  </thead>\n",
       "  <tbody>\n",
       "    <tr>\n",
       "      <th>count</th>\n",
       "      <td>3223.000000</td>\n",
       "      <td>3223.000000</td>\n",
       "      <td>3223.000000</td>\n",
       "      <td>3223.000000</td>\n",
       "      <td>3223.000000</td>\n",
       "      <td>3.223000e+03</td>\n",
       "      <td>3223.000000</td>\n",
       "    </tr>\n",
       "    <tr>\n",
       "      <th>mean</th>\n",
       "      <td>515.640071</td>\n",
       "      <td>525.325318</td>\n",
       "      <td>505.713155</td>\n",
       "      <td>514.697285</td>\n",
       "      <td>514.604111</td>\n",
       "      <td>1.336660e+05</td>\n",
       "      <td>991.334009</td>\n",
       "    </tr>\n",
       "    <tr>\n",
       "      <th>std</th>\n",
       "      <td>453.337535</td>\n",
       "      <td>459.885573</td>\n",
       "      <td>446.263921</td>\n",
       "      <td>452.874792</td>\n",
       "      <td>452.769862</td>\n",
       "      <td>3.866986e+05</td>\n",
       "      <td>2810.920380</td>\n",
       "    </tr>\n",
       "    <tr>\n",
       "      <th>min</th>\n",
       "      <td>62.000000</td>\n",
       "      <td>63.700000</td>\n",
       "      <td>58.200000</td>\n",
       "      <td>62.500000</td>\n",
       "      <td>61.300000</td>\n",
       "      <td>5.000000e+01</td>\n",
       "      <td>0.050000</td>\n",
       "    </tr>\n",
       "    <tr>\n",
       "      <th>25%</th>\n",
       "      <td>166.475000</td>\n",
       "      <td>170.925000</td>\n",
       "      <td>162.075000</td>\n",
       "      <td>166.000000</td>\n",
       "      <td>165.700000</td>\n",
       "      <td>2.039200e+04</td>\n",
       "      <td>40.820000</td>\n",
       "    </tr>\n",
       "    <tr>\n",
       "      <th>50%</th>\n",
       "      <td>273.800000</td>\n",
       "      <td>281.000000</td>\n",
       "      <td>265.000000</td>\n",
       "      <td>273.000000</td>\n",
       "      <td>273.050000</td>\n",
       "      <td>5.540400e+04</td>\n",
       "      <td>161.570000</td>\n",
       "    </tr>\n",
       "    <tr>\n",
       "      <th>75%</th>\n",
       "      <td>758.950000</td>\n",
       "      <td>779.725000</td>\n",
       "      <td>741.350000</td>\n",
       "      <td>761.250000</td>\n",
       "      <td>759.050000</td>\n",
       "      <td>1.409865e+05</td>\n",
       "      <td>860.560000</td>\n",
       "    </tr>\n",
       "    <tr>\n",
       "      <th>max</th>\n",
       "      <td>1635.000000</td>\n",
       "      <td>1655.000000</td>\n",
       "      <td>1603.600000</td>\n",
       "      <td>1620.000000</td>\n",
       "      <td>1613.100000</td>\n",
       "      <td>1.349331e+07</td>\n",
       "      <td>76033.530000</td>\n",
       "    </tr>\n",
       "  </tbody>\n",
       "</table>\n",
       "</div>"
      ],
      "text/plain": [
       "              Open         High          Low         Last        Close  \\\n",
       "count  3223.000000  3223.000000  3223.000000  3223.000000  3223.000000   \n",
       "mean    515.640071   525.325318   505.713155   514.697285   514.604111   \n",
       "std     453.337535   459.885573   446.263921   452.874792   452.769862   \n",
       "min      62.000000    63.700000    58.200000    62.500000    61.300000   \n",
       "25%     166.475000   170.925000   162.075000   166.000000   165.700000   \n",
       "50%     273.800000   281.000000   265.000000   273.000000   273.050000   \n",
       "75%     758.950000   779.725000   741.350000   761.250000   759.050000   \n",
       "max    1635.000000  1655.000000  1603.600000  1620.000000  1613.100000   \n",
       "\n",
       "       Total Trade Quantity  Turnover (Lacs)  \n",
       "count          3.223000e+03      3223.000000  \n",
       "mean           1.336660e+05       991.334009  \n",
       "std            3.866986e+05      2810.920380  \n",
       "min            5.000000e+01         0.050000  \n",
       "25%            2.039200e+04        40.820000  \n",
       "50%            5.540400e+04       161.570000  \n",
       "75%            1.409865e+05       860.560000  \n",
       "max            1.349331e+07     76033.530000  "
      ]
     },
     "execution_count": 825,
     "metadata": {},
     "output_type": "execute_result"
    }
   ],
   "source": [
    "df.describe()"
   ]
  },
  {
   "cell_type": "code",
   "execution_count": 826,
   "metadata": {},
   "outputs": [
    {
     "name": "stdout",
     "output_type": "stream",
     "text": [
      "<class 'pandas.core.frame.DataFrame'>\n",
      "DatetimeIndex: 3223 entries, 2006-01-04 to 2019-01-04\n",
      "Data columns (total 7 columns):\n",
      "Open                    3223 non-null float64\n",
      "High                    3223 non-null float64\n",
      "Low                     3223 non-null float64\n",
      "Last                    3223 non-null float64\n",
      "Close                   3223 non-null float64\n",
      "Total Trade Quantity    3223 non-null float64\n",
      "Turnover (Lacs)         3223 non-null float64\n",
      "dtypes: float64(7)\n",
      "memory usage: 201.4 KB\n"
     ]
    }
   ],
   "source": [
    "df.info()"
   ]
  },
  {
   "cell_type": "code",
   "execution_count": 827,
   "metadata": {},
   "outputs": [],
   "source": [
    "df.rename(columns={'Total Trade Quantity':'Volume'},inplace=True)"
   ]
  },
  {
   "cell_type": "code",
   "execution_count": 828,
   "metadata": {},
   "outputs": [],
   "source": [
    "def shiftby1(price):\n",
    "    return price.shift(1)"
   ]
  },
  {
   "cell_type": "code",
   "execution_count": 829,
   "metadata": {},
   "outputs": [],
   "source": [
    "df['Open_1'] = shiftby1(df['Open'])\n",
    "df['High_1'] = shiftby1(df['High'])\n",
    "df['Low_1'] = shiftby1(df['Low'])\n",
    "df['Close_1'] = shiftby1(df['Close'])\n",
    "df['Volume_1'] = shiftby1(df['Volume'])"
   ]
  },
  {
   "cell_type": "code",
   "execution_count": 830,
   "metadata": {},
   "outputs": [
    {
     "name": "stderr",
     "output_type": "stream",
     "text": [
      "C:\\ProgramData\\Anaconda3\\lib\\site-packages\\ipykernel_launcher.py:1: FutureWarning: pd.rolling_mean is deprecated for Series and will be removed in a future version, replace with \n",
      "\tSeries.rolling(window=5,center=False).mean()\n",
      "  \"\"\"Entry point for launching an IPython kernel.\n",
      "C:\\ProgramData\\Anaconda3\\lib\\site-packages\\ipykernel_launcher.py:2: FutureWarning: pd.rolling_mean is deprecated for Series and will be removed in a future version, replace with \n",
      "\tSeries.rolling(window=21,center=False).mean()\n",
      "  \n",
      "C:\\ProgramData\\Anaconda3\\lib\\site-packages\\ipykernel_launcher.py:3: FutureWarning: pd.rolling_mean is deprecated for Series and will be removed in a future version, replace with \n",
      "\tSeries.rolling(window=252,center=False).mean()\n",
      "  This is separate from the ipykernel package so we can avoid doing imports until\n"
     ]
    }
   ],
   "source": [
    "df['avg_price_7'] = pd.rolling_mean(df['Close'],window = 5).shift(1)\n",
    "df['avg_price_30'] = pd.rolling_mean(df['Close'],window = 21).shift(1)\n",
    "df['avg_price_365'] = pd.rolling_mean(df['Close'],window = 252).shift(1)"
   ]
  },
  {
   "cell_type": "code",
   "execution_count": 831,
   "metadata": {},
   "outputs": [],
   "source": [
    "df['ratio_avg_price_7_30'] = df['avg_price_7']/df['avg_price_30']\n",
    "df['ratio_avg_price_7_365'] = df['avg_price_7']/df['avg_price_365']\n",
    "df['ratio_avg_price_30_365'] = df['avg_price_30']/df['avg_price_365']"
   ]
  },
  {
   "cell_type": "code",
   "execution_count": 832,
   "metadata": {},
   "outputs": [
    {
     "name": "stderr",
     "output_type": "stream",
     "text": [
      "C:\\ProgramData\\Anaconda3\\lib\\site-packages\\ipykernel_launcher.py:1: FutureWarning: pd.rolling_mean is deprecated for Series and will be removed in a future version, replace with \n",
      "\tSeries.rolling(window=5,center=False).mean()\n",
      "  \"\"\"Entry point for launching an IPython kernel.\n",
      "C:\\ProgramData\\Anaconda3\\lib\\site-packages\\ipykernel_launcher.py:2: FutureWarning: pd.rolling_mean is deprecated for Series and will be removed in a future version, replace with \n",
      "\tSeries.rolling(window=21,center=False).mean()\n",
      "  \n",
      "C:\\ProgramData\\Anaconda3\\lib\\site-packages\\ipykernel_launcher.py:3: FutureWarning: pd.rolling_mean is deprecated for Series and will be removed in a future version, replace with \n",
      "\tSeries.rolling(window=252,center=False).mean()\n",
      "  This is separate from the ipykernel package so we can avoid doing imports until\n"
     ]
    }
   ],
   "source": [
    "df['avg_Volume_7'] = pd.rolling_mean(df['Volume'],window = 5).shift(1)\n",
    "df['avg_Volume_30'] = pd.rolling_mean(df['Volume'],window = 21).shift(1)\n",
    "df['avg_Volume_365'] = pd.rolling_mean(df['Volume'],window = 252).shift(1)"
   ]
  },
  {
   "cell_type": "code",
   "execution_count": 833,
   "metadata": {},
   "outputs": [],
   "source": [
    "df['ratio_avg_Volume_7_30'] = df['avg_Volume_7']/df['avg_Volume_30']\n",
    "df['ratio_avg_Volume_7_365'] = df['avg_Volume_7']/df['avg_Volume_365']\n",
    "df['ratio_avg_Volume_30_365'] = df['avg_Volume_30']/df['avg_Volume_365']"
   ]
  },
  {
   "cell_type": "code",
   "execution_count": 834,
   "metadata": {},
   "outputs": [
    {
     "name": "stderr",
     "output_type": "stream",
     "text": [
      "C:\\ProgramData\\Anaconda3\\lib\\site-packages\\ipykernel_launcher.py:1: FutureWarning: pd.rolling_std is deprecated for Series and will be removed in a future version, replace with \n",
      "\tSeries.rolling(window=5,center=False).std()\n",
      "  \"\"\"Entry point for launching an IPython kernel.\n",
      "C:\\ProgramData\\Anaconda3\\lib\\site-packages\\ipykernel_launcher.py:2: FutureWarning: pd.rolling_std is deprecated for Series and will be removed in a future version, replace with \n",
      "\tSeries.rolling(window=21,center=False).std()\n",
      "  \n",
      "C:\\ProgramData\\Anaconda3\\lib\\site-packages\\ipykernel_launcher.py:3: FutureWarning: pd.rolling_std is deprecated for Series and will be removed in a future version, replace with \n",
      "\tSeries.rolling(window=252,center=False).std()\n",
      "  This is separate from the ipykernel package so we can avoid doing imports until\n"
     ]
    }
   ],
   "source": [
    "df['std_price_7'] = pd.rolling_std(df['Close'],window = 5).shift(1)\n",
    "df['std_price_30'] = pd.rolling_std(df['Close'],window = 21).shift(1)\n",
    "df['std_price_365'] = pd.rolling_std(df['Close'],window = 252).shift(1)"
   ]
  },
  {
   "cell_type": "code",
   "execution_count": 835,
   "metadata": {},
   "outputs": [],
   "source": [
    "df['ratio_std_price_7_30'] = df['std_price_7']/df['std_price_30']\n",
    "df['ratio_std_price_7_365'] = df['std_price_7']/df['std_price_365']\n",
    "df['ratio_std_price_30_365'] = df['std_price_30']/df['std_price_365']"
   ]
  },
  {
   "cell_type": "code",
   "execution_count": 836,
   "metadata": {},
   "outputs": [
    {
     "name": "stderr",
     "output_type": "stream",
     "text": [
      "C:\\ProgramData\\Anaconda3\\lib\\site-packages\\ipykernel_launcher.py:1: FutureWarning: pd.rolling_std is deprecated for Series and will be removed in a future version, replace with \n",
      "\tSeries.rolling(window=5,center=False).std()\n",
      "  \"\"\"Entry point for launching an IPython kernel.\n",
      "C:\\ProgramData\\Anaconda3\\lib\\site-packages\\ipykernel_launcher.py:2: FutureWarning: pd.rolling_std is deprecated for Series and will be removed in a future version, replace with \n",
      "\tSeries.rolling(window=21,center=False).std()\n",
      "  \n",
      "C:\\ProgramData\\Anaconda3\\lib\\site-packages\\ipykernel_launcher.py:3: FutureWarning: pd.rolling_std is deprecated for Series and will be removed in a future version, replace with \n",
      "\tSeries.rolling(window=252,center=False).std()\n",
      "  This is separate from the ipykernel package so we can avoid doing imports until\n"
     ]
    }
   ],
   "source": [
    "df['std_Volume_7'] = pd.rolling_std(df['Volume'],window = 5).shift(1)\n",
    "df['std_Volume_30'] = pd.rolling_std(df['Volume'],window = 21).shift(1)\n",
    "df['std_Volume_365'] = pd.rolling_std(df['Volume'],window = 252).shift(1)"
   ]
  },
  {
   "cell_type": "code",
   "execution_count": 837,
   "metadata": {},
   "outputs": [],
   "source": [
    "df['ratio_std_Volume_7_30'] = df['std_Volume_7']/df['std_Volume_30']\n",
    "df['ratio_std_Volume_7_365'] = df['std_Volume_7']/df['std_Volume_365']\n",
    "df['ratio_std_Volume_30_365'] = df['std_Volume_30']/df['std_Volume_365']"
   ]
  },
  {
   "cell_type": "code",
   "execution_count": 838,
   "metadata": {},
   "outputs": [],
   "source": [
    "df['return_1'] = ((df['Close']-df['Close'].shift(1))/df['Close'].shift(1)).shift(1)\n",
    "df['return_7'] = ((df['Close']-df['Close'].shift(5))/df['Close'].shift(5)).shift(1)\n",
    "df['return_30'] = ((df['Close']-df['Close'].shift(21))/df['Close'].shift(21)).shift(1)\n",
    "df['return_365'] = ((df['Close']-df['Close'].shift(252))/df['Close'].shift(252)).shift(1)"
   ]
  },
  {
   "cell_type": "code",
   "execution_count": 839,
   "metadata": {},
   "outputs": [
    {
     "name": "stderr",
     "output_type": "stream",
     "text": [
      "C:\\ProgramData\\Anaconda3\\lib\\site-packages\\ipykernel_launcher.py:1: FutureWarning: pd.rolling_mean is deprecated for Series and will be removed in a future version, replace with \n",
      "\tSeries.rolling(window=5,center=False).mean()\n",
      "  \"\"\"Entry point for launching an IPython kernel.\n",
      "C:\\ProgramData\\Anaconda3\\lib\\site-packages\\ipykernel_launcher.py:2: FutureWarning: pd.rolling_mean is deprecated for Series and will be removed in a future version, replace with \n",
      "\tSeries.rolling(window=21,center=False).mean()\n",
      "  \n",
      "C:\\ProgramData\\Anaconda3\\lib\\site-packages\\ipykernel_launcher.py:3: FutureWarning: pd.rolling_mean is deprecated for Series and will be removed in a future version, replace with \n",
      "\tSeries.rolling(window=252,center=False).mean()\n",
      "  This is separate from the ipykernel package so we can avoid doing imports until\n"
     ]
    }
   ],
   "source": [
    "df['moving_avg_7'] = pd.rolling_mean(df['return_7'],window=5)\n",
    "df['moving_avg_30'] = pd.rolling_mean(df['return_30'],window=21)\n",
    "df['moving_avg_365'] = pd.rolling_mean(df['return_365'],window=252)"
   ]
  },
  {
   "cell_type": "code",
   "execution_count": 840,
   "metadata": {},
   "outputs": [],
   "source": [
    "df=df.dropna(axis=0)\n",
    "df.drop(df[['Turnover (Lacs)','Last']],axis=1,inplace=True)"
   ]
  },
  {
   "cell_type": "code",
   "execution_count": 841,
   "metadata": {},
   "outputs": [],
   "source": [
    "X=df.drop('Close',axis=1)\n",
    "y=df['Close']"
   ]
  },
  {
   "cell_type": "code",
   "execution_count": 842,
   "metadata": {},
   "outputs": [],
   "source": [
    "from sklearn.model_selection import train_test_split\n",
    "from sklearn.preprocessing import StandardScaler\n",
    "from sklearn.linear_model import SGDRegressor\n",
    "from sklearn.metrics import mean_absolute_error,mean_squared_error,r2_score"
   ]
  },
  {
   "cell_type": "code",
   "execution_count": 843,
   "metadata": {},
   "outputs": [],
   "source": [
    "scaler = StandardScaler()\n",
    "X_trans = scaler.fit_transform(X)"
   ]
  },
  {
   "cell_type": "code",
   "execution_count": 844,
   "metadata": {},
   "outputs": [],
   "source": [
    "X_train,X_test,y_train,y_test=train_test_split(X_trans,y,test_size=0.3,random_state=42)"
   ]
  },
  {
   "cell_type": "code",
   "execution_count": 845,
   "metadata": {},
   "outputs": [
    {
     "name": "stderr",
     "output_type": "stream",
     "text": [
      "C:\\ProgramData\\Anaconda3\\lib\\site-packages\\sklearn\\linear_model\\stochastic_gradient.py:128: FutureWarning: max_iter and tol parameters have been added in <class 'sklearn.linear_model.stochastic_gradient.SGDRegressor'> in 0.19. If both are left unset, they default to max_iter=5 and tol=None. If tol is not None, max_iter defaults to max_iter=1000. From 0.21, default max_iter will be 1000, and default tol will be 1e-3.\n",
      "  \"and default tol will be 1e-3.\" % type(self), FutureWarning)\n"
     ]
    }
   ],
   "source": [
    "linear = SGDRegressor()\n",
    "linear.fit(X_train,y_train)\n",
    "predict = linear.predict(X_test)"
   ]
  },
  {
   "cell_type": "code",
   "execution_count": 846,
   "metadata": {},
   "outputs": [
    {
     "name": "stdout",
     "output_type": "stream",
     "text": [
      "MSE:218.801\n",
      "RMSE:14.792\n",
      "MAE:9.935\n",
      "R^2:0.999\n"
     ]
    }
   ],
   "source": [
    "print('MSE:{0:0.3f}'.format(mean_squared_error(y_test,predict)))\n",
    "print('RMSE:{0:0.3f}'.format(np.sqrt(mean_squared_error(y_test,predict))))\n",
    "print('MAE:{0:0.3f}'.format(mean_absolute_error(y_test,predict)))\n",
    "print('R^2:{0:0.3f}'.format(r2_score(y_test,predict)))"
   ]
  },
  {
   "cell_type": "code",
   "execution_count": 847,
   "metadata": {},
   "outputs": [],
   "source": [
    "from sklearn.svm import SVR\n",
    "svm = SVR(kernel='linear')\n",
    "svm.fit(X_train, y_train)\n",
    "predictions = svm.predict(X_test)"
   ]
  },
  {
   "cell_type": "code",
   "execution_count": 848,
   "metadata": {},
   "outputs": [
    {
     "name": "stdout",
     "output_type": "stream",
     "text": [
      "MSE:218.801\n",
      "RMSE:12.341\n",
      "MAE:7.621\n",
      "R^2:0.999\n"
     ]
    }
   ],
   "source": [
    "print('MSE:{0:0.3f}'.format(mean_squared_error(y_test,predict)))\n",
    "print('RMSE:{0:0.3f}'.format(np.sqrt(mean_squared_error(y_test,predictions))))\n",
    "print('MAE:{0:0.3f}'.format(mean_absolute_error(y_test,predictions)))\n",
    "print('R^2:{0:0.3f}'.format(r2_score(y_test,predictions)))"
   ]
  },
  {
   "cell_type": "code",
   "execution_count": 849,
   "metadata": {},
   "outputs": [],
   "source": [
    "from sklearn.tree import DecisionTreeRegressor\n",
    "tree = DecisionTreeRegressor()\n",
    "tree_train,tree_test,target_train,target_test = train_test_split(X,y,test_size=0.3,random_state=42)"
   ]
  },
  {
   "cell_type": "code",
   "execution_count": 850,
   "metadata": {},
   "outputs": [
    {
     "data": {
      "text/plain": [
       "DecisionTreeRegressor(criterion='mse', max_depth=None, max_features=None,\n",
       "           max_leaf_nodes=None, min_impurity_decrease=0.0,\n",
       "           min_impurity_split=None, min_samples_leaf=1,\n",
       "           min_samples_split=2, min_weight_fraction_leaf=0.0,\n",
       "           presort=False, random_state=None, splitter='best')"
      ]
     },
     "execution_count": 850,
     "metadata": {},
     "output_type": "execute_result"
    }
   ],
   "source": [
    "tree.fit(tree_train,target_train)"
   ]
  },
  {
   "cell_type": "code",
   "execution_count": 851,
   "metadata": {},
   "outputs": [],
   "source": [
    "pred=tree.predict(tree_test)"
   ]
  },
  {
   "cell_type": "code",
   "execution_count": 852,
   "metadata": {},
   "outputs": [
    {
     "name": "stdout",
     "output_type": "stream",
     "text": [
      "MSE:135.265\n",
      "RMSE:11.630\n",
      "MAE:7.008\n",
      "R^2:0.999\n"
     ]
    }
   ],
   "source": [
    "print('MSE:{0:0.3f}'.format(mean_squared_error(y_test,pred)))\n",
    "print('RMSE:{0:0.3f}'.format(np.sqrt(mean_squared_error(y_test,pred))))\n",
    "print('MAE:{0:0.3f}'.format(mean_absolute_error(y_test,pred)))\n",
    "print('R^2:{0:0.3f}'.format(r2_score(y_test,pred)))"
   ]
  },
  {
   "cell_type": "code",
   "execution_count": 853,
   "metadata": {},
   "outputs": [],
   "source": [
    "df_performance = df[-100:]"
   ]
  },
  {
   "cell_type": "code",
   "execution_count": 854,
   "metadata": {},
   "outputs": [],
   "source": [
    "x_performance = df_performance.drop(['Close'],axis=1)"
   ]
  },
  {
   "cell_type": "code",
   "execution_count": 855,
   "metadata": {},
   "outputs": [],
   "source": [
    "x_performance = np.array(x_performance)"
   ]
  },
  {
   "cell_type": "code",
   "execution_count": 856,
   "metadata": {},
   "outputs": [],
   "source": [
    "prediction_performance = tree.predict(x_performance)"
   ]
  },
  {
   "cell_type": "code",
   "execution_count": 857,
   "metadata": {},
   "outputs": [],
   "source": [
    "prediction = prediction_performance.tolist()"
   ]
  },
  {
   "cell_type": "code",
   "execution_count": 858,
   "metadata": {},
   "outputs": [
    {
     "name": "stderr",
     "output_type": "stream",
     "text": [
      "C:\\ProgramData\\Anaconda3\\lib\\site-packages\\ipykernel_launcher.py:1: SettingWithCopyWarning: \n",
      "A value is trying to be set on a copy of a slice from a DataFrame.\n",
      "Try using .loc[row_indexer,col_indexer] = value instead\n",
      "\n",
      "See the caveats in the documentation: http://pandas.pydata.org/pandas-docs/stable/indexing.html#indexing-view-versus-copy\n",
      "  \"\"\"Entry point for launching an IPython kernel.\n"
     ]
    }
   ],
   "source": [
    "df_performance['Pred'] = prediction"
   ]
  },
  {
   "cell_type": "code",
   "execution_count": 868,
   "metadata": {},
   "outputs": [
    {
     "data": {
      "text/plain": [
       "<matplotlib.legend.Legend at 0x13c3db90>"
      ]
     },
     "execution_count": 868,
     "metadata": {},
     "output_type": "execute_result"
    },
    {
     "data": {
      "image/png": "[encoded data removed]",
      "text/plain": [
       "<matplotlib.figure.Figure at 0x13be51d0>"
      ]
     },
     "metadata": {},
     "output_type": "display_data"
    }
   ],
   "source": [
    "plt.figure(figsize=(12,8))\n",
    "plt.plot(df_performance[['Close','Pred']])\n",
    "plt.xlabel('Last 100 days')\n",
    "plt.ylabel('Price')\n",
    "plt.legend(['Close','Pred'])"
   ]
  },
  {
   "cell_type": "code",
   "execution_count": null,
   "metadata": {},
   "outputs": [],
   "source": []
  }
 ],
 "metadata": {
  "kernelspec": {
   "display_name": "Python 3",
   "language": "python",
   "name": "python3"
  },
  "language_info": {
   "codemirror_mode": {
    "name": "ipython",
    "version": 3
   },
   "file_extension": ".py",
   "mimetype": "text/x-python",
   "name": "python",
   "nbconvert_exporter": "python",
   "pygments_lexer": "ipython3",
   "version": "3.6.4"
  }
 },
 "nbformat": 4,
 "nbformat_minor": 2
}
